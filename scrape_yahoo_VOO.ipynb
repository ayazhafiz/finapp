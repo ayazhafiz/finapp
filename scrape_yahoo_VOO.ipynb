{
 "cells": [
  {
   "cell_type": "markdown",
   "metadata": {},
   "source": [
    "# scrape_yahoo_VOO.ipynb\n",
    "\n",
    "2020.07.10"
   ]
  },
  {
   "cell_type": "code",
   "execution_count": 153,
   "metadata": {},
   "outputs": [],
   "source": [
    "from lxml import html  \n",
    "import requests\n",
    "# from exceptions import ValueError\n",
    "from time import sleep\n",
    "import json\n",
    "import argparse\n",
    "from collections import OrderedDict\n",
    "# from time import sleep\n",
    "import time\n",
    "import pandas as pd\n",
    "import urllib3\n",
    "urllib3.disable_warnings()"
   ]
  },
  {
   "cell_type": "code",
   "execution_count": 185,
   "metadata": {},
   "outputs": [],
   "source": [
    "def parse_etf(ticker):\n",
    "    url = \"http://finance.yahoo.com/quote/%s?p=%s\"%(ticker,ticker)\n",
    "    url =\"https://finance.yahoo.com/quote/%s?p=%s&.tsrc=fin-srch\"%(ticker,ticker)\n",
    "    response = requests.get(url, verify=False)\n",
    "#     print( \"Parsing %s\"%(url))\n",
    "#     time.sleep(4)\n",
    "    parser = html.fromstring(response.text)\n",
    "    summary_table = parser.xpath('//div[contains(@data-test,\"summary-table\")]//tr')\n",
    "    summary_data = OrderedDict()\n",
    "    other_details_json_link = \"https://query2.finance.yahoo.com/v10/finance/quoteSummary/{0}?formatted=true&lang=en-US&region=US&modules=summaryProfile%2CfinancialData%2CrecommendationTrend%2CupgradeDowngradeHistory%2Cearnings%2CdefaultKeyStatistics%2CcalendarEvents&corsDomain=finance.yahoo.com\".format(ticker)\n",
    "    summary_json_response = requests.get(other_details_json_link)\n",
    "    tt = summary_json_response.json()\n",
    "    \n",
    "    expRatio = get_ExpRatio(response)\n",
    "    \n",
    "    res = [ticker,\n",
    "    tt['quoteSummary']['result'][0]['defaultKeyStatistics']['fundFamily'],\n",
    "    tt['quoteSummary']['result'][0]['defaultKeyStatistics']['category'],\n",
    "    tt['quoteSummary']['result'][0]['defaultKeyStatistics']['yield']['fmt'],\n",
    "#     tt['quoteSummary']['result'][0]['defaultKeyStatistics']['annualReportExpenseRatio'],\n",
    "    str(round(expRatio*100,2)) +\"%\"       ,\n",
    "    tt['quoteSummary']['result'][0]['defaultKeyStatistics']['ytdReturn']['fmt'],\n",
    "    tt['quoteSummary']['result'][0]['defaultKeyStatistics']['beta3Year']['fmt'] \n",
    "          ]\n",
    "    return res\n",
    "\n",
    "def get_ExpRatio(response):\n",
    "    s = response.text\n",
    "    s2 = \"annualReportExpenseRatio\"  #239750\n",
    "    s2 = \"feesExpensesInvestment\"    #240971\n",
    "\n",
    "    n1=s.find(s2)\n",
    "    # print(n1)\n",
    "    N=400\n",
    "    n2=s[n1:(n1+N)].find(\"annualReportExpenseRatio\")\n",
    "    expr = float(s[n1+n2:(n1+n2+N)].split(\":\")[2].split(\",\")[0])\n",
    "    return expr"
   ]
  },
  {
   "cell_type": "code",
   "execution_count": 186,
   "metadata": {},
   "outputs": [],
   "source": [
    "# !dir"
   ]
  },
  {
   "cell_type": "code",
   "execution_count": 187,
   "metadata": {},
   "outputs": [],
   "source": [
    "columns = ['ticker', 'fundFamily', 'category', 'yield', 'annualReportExpenseRatio',  'ytdReturn','beta3Year' ]\n",
    "tickers = ['VOO', 'CLTL','SHV','VGSH','VGIT','GOVT','IEF','BND', 'JNK', 'ARKW', 'VGT','QQQ','VDE','EDV', 'BLV', \n",
    "           'VGLT', 'VMBS',  'VTIP',  'VCIT', 'VCSH', 'VTC', 'VTEB', \n",
    "           'VIG',  'VUG', 'VYM', 'BNDW']\n",
    "\n",
    "res = [parse_etf(ticker=tkr) for tkr in tickers ]\n",
    "df=pd.DataFrame(res, columns=columns)\n",
    "# df"
   ]
  },
  {
   "cell_type": "code",
   "execution_count": 213,
   "metadata": {},
   "outputs": [],
   "source": [
    "type(df['yield'][0])\n",
    "# df.head(n=3)\n",
    "df['cy'] = [float(df['yield'][k][:-1]) - float(df['annualReportExpenseRatio'][k][:-1]) for k in range(df.shape[0])]\n",
    "df['ncy'] = [round(df['cy'][k]/float(df['beta3Year'][k]),2) if float(df['beta3Year'][k])>0 else -100 for k in range(df.shape[0])]\n",
    "\n",
    "df = df.sort_values(by=['ncy'],ascending=False).reset_index()\n",
    "df=df.drop(['index'], axis=1)"
   ]
  },
  {
   "cell_type": "code",
   "execution_count": null,
   "metadata": {},
   "outputs": [],
   "source": [
    "df.to_excel('Vang_ETF_comp.xlsx')"
   ]
  },
  {
   "cell_type": "code",
   "execution_count": null,
   "metadata": {},
   "outputs": [],
   "source": []
  },
  {
   "cell_type": "markdown",
   "metadata": {},
   "source": [
    "# BELOW IS OLD CODE\n",
    "\n",
    "not very useful"
   ]
  },
  {
   "cell_type": "code",
   "execution_count": null,
   "metadata": {},
   "outputs": [],
   "source": []
  },
  {
   "cell_type": "code",
   "execution_count": null,
   "metadata": {},
   "outputs": [],
   "source": []
  },
  {
   "cell_type": "code",
   "execution_count": null,
   "metadata": {},
   "outputs": [],
   "source": []
  },
  {
   "cell_type": "code",
   "execution_count": null,
   "metadata": {},
   "outputs": [],
   "source": []
  },
  {
   "cell_type": "code",
   "execution_count": null,
   "metadata": {},
   "outputs": [],
   "source": []
  },
  {
   "cell_type": "code",
   "execution_count": null,
   "metadata": {},
   "outputs": [],
   "source": []
  },
  {
   "cell_type": "code",
   "execution_count": null,
   "metadata": {},
   "outputs": [],
   "source": [
    "print(ticker,\n",
    "tt['quoteSummary']['result'][0]['defaultKeyStatistics']['fundFamily'],\n",
    "tt['quoteSummary']['result'][0]['defaultKeyStatistics']['category'],\n",
    "tt['quoteSummary']['result'][0]['defaultKeyStatistics']['yield']['fmt'],\n",
    "tt['quoteSummary']['result'][0]['defaultKeyStatistics']['annualReportExpenseRatio'],\n",
    "tt['quoteSummary']['result'][0]['defaultKeyStatistics']['ytdReturn']['fmt'],\n",
    "tt['quoteSummary']['result'][0]['defaultKeyStatistics']['beta3Year']['fmt']\n",
    ")"
   ]
  },
  {
   "cell_type": "code",
   "execution_count": 120,
   "metadata": {},
   "outputs": [
    {
     "data": {
      "text/plain": [
       "[{'defaultKeyStatistics': {'maxAge': 1,\n",
       "   'priceHint': {'raw': 2, 'fmt': '2', 'longFmt': '2'},\n",
       "   'enterpriseValue': {},\n",
       "   'forwardPE': {},\n",
       "   'profitMargins': {},\n",
       "   'morningStarOverallRating': {},\n",
       "   'morningStarRiskRating': {},\n",
       "   'category': 'Large Blend',\n",
       "   'bookValue': {},\n",
       "   'priceToBook': {},\n",
       "   'annualReportExpenseRatio': {},\n",
       "   'ytdReturn': {'raw': -0.0145000005, 'fmt': '-1.45%'},\n",
       "   'beta3Year': {'raw': 1.0, 'fmt': '1.00'},\n",
       "   'totalAssets': {'raw': 533811101696,\n",
       "    'fmt': '533.81B',\n",
       "    'longFmt': '533,811,101,696'},\n",
       "   'yield': {'raw': 0.0188, 'fmt': '1.88%'},\n",
       "   'fundFamily': 'Vanguard',\n",
       "   'fundInceptionDate': {'raw': 1283817600, 'fmt': '2010-09-07'},\n",
       "   'legalType': 'Exchange Traded Fund',\n",
       "   'threeYearAverageReturn': {'raw': 0.11270001, 'fmt': '11.27%'},\n",
       "   'fiveYearAverageReturn': {'raw': 0.1118, 'fmt': '11.18%'},\n",
       "   'priceToSalesTrailing12Months': {},\n",
       "   'lastFiscalYearEnd': {},\n",
       "   'nextFiscalYearEnd': {},\n",
       "   'mostRecentQuarter': {},\n",
       "   'earningsQuarterlyGrowth': {},\n",
       "   'revenueQuarterlyGrowth': {},\n",
       "   'netIncomeToCommon': {},\n",
       "   'trailingEps': {},\n",
       "   'forwardEps': {},\n",
       "   'pegRatio': {},\n",
       "   'lastSplitFactor': None,\n",
       "   'lastSplitDate': {},\n",
       "   'enterpriseToRevenue': {},\n",
       "   'enterpriseToEbitda': {},\n",
       "   '52WeekChange': {},\n",
       "   'SandP52WeekChange': {},\n",
       "   'lastDividendValue': {},\n",
       "   'lastCapGain': {},\n",
       "   'annualHoldingsTurnover': {}},\n",
       "  'summaryProfile': {'phone': '866-499-8473',\n",
       "   'longBusinessSummary': 'The investment seeks to track the performance of a benchmark index that measures the investment return of large-capitalization stocks.\\n The fund employs an indexing investment approach designed to track the performance of the Standard & Poor&#39;s 500 Index, a widely recognized benchmark of U.S. stock market performance that is dominated by the stocks of large U.S. companies. The advisor attempts to replicate the target index by investing all, or substantially all, of its assets in the stocks that make up the index, holding each stock in approximately the same proportion as its weighting in the index.',\n",
       "   'companyOfficers': [],\n",
       "   'maxAge': 86400}}]"
      ]
     },
     "execution_count": 120,
     "metadata": {},
     "output_type": "execute_result"
    }
   ],
   "source": [
    "other_details_json_link = \"https://query2.finance.yahoo.com/v10/finance/quoteSummary/{0}?formatted=true&lang=en-US&region=US&modules=summaryProfile%2CfinancialData%2CrecommendationTrend%2CupgradeDowngradeHistory%2Cearnings%2CdefaultKeyStatistics%2CfeesExpensesInvestment%2CcalendarEvents&corsDomain=finance.yahoo.com\".format(ticker)\n",
    "summary_json_response = requests.get(other_details_json_link)\n",
    "tt = summary_json_response.json()\n",
    "# feesExpensesInvestment\n",
    "tt['quoteSummary']['result']"
   ]
  },
  {
   "cell_type": "code",
   "execution_count": 114,
   "metadata": {},
   "outputs": [
    {
     "data": {
      "text/plain": [
       "['VOO', 'Vanguard', 'Large Blend', '1.88%', {}, '-1.45%', '1.00']"
      ]
     },
     "execution_count": 114,
     "metadata": {},
     "output_type": "execute_result"
    }
   ],
   "source": [
    "summary_json_response = requests.get(other_details_json_link)\n",
    "tt = summary_json_response.json()\n",
    "res = [ticker,\n",
    "tt['quoteSummary']['result'][0]['defaultKeyStatistics']['fundFamily'],\n",
    "tt['quoteSummary']['result'][0]['defaultKeyStatistics']['category'],\n",
    "tt['quoteSummary']['result'][0]['defaultKeyStatistics']['yield']['fmt'],\n",
    "tt['quoteSummary']['result'][0]['defaultKeyStatistics']['annualReportExpenseRatio'],\n",
    "tt['quoteSummary']['result'][0]['defaultKeyStatistics']['ytdReturn']['fmt'],\n",
    "tt['quoteSummary']['result'][0]['defaultKeyStatistics']['beta3Year']['fmt'] \n",
    "      ]\n",
    "res"
   ]
  },
  {
   "cell_type": "code",
   "execution_count": null,
   "metadata": {},
   "outputs": [],
   "source": []
  },
  {
   "cell_type": "code",
   "execution_count": null,
   "metadata": {},
   "outputs": [],
   "source": []
  },
  {
   "cell_type": "code",
   "execution_count": 144,
   "metadata": {},
   "outputs": [],
   "source": [
    "# s = \"Happy Birthday\"\n",
    "# s2 = \"py\"\n"
   ]
  },
  {
   "cell_type": "code",
   "execution_count": null,
   "metadata": {},
   "outputs": [],
   "source": []
  },
  {
   "cell_type": "code",
   "execution_count": 165,
   "metadata": {},
   "outputs": [],
   "source": [
    "url=\"https://investor.vanguard.com/etf/list#/etf/asset-class/month-end-returns\"\n",
    "response = requests.get(url, verify=False)"
   ]
  },
  {
   "cell_type": "code",
   "execution_count": 166,
   "metadata": {},
   "outputs": [],
   "source": [
    "parser = html.fromstring(response.text)"
   ]
  },
  {
   "cell_type": "code",
   "execution_count": 168,
   "metadata": {},
   "outputs": [
    {
     "data": {
      "text/plain": [
       "'\\r\\n\\t'"
      ]
     },
     "execution_count": 168,
     "metadata": {},
     "output_type": "execute_result"
    }
   ],
   "source": [
    "parser.text"
   ]
  },
  {
   "cell_type": "code",
   "execution_count": null,
   "metadata": {},
   "outputs": [],
   "source": []
  },
  {
   "cell_type": "code",
   "execution_count": null,
   "metadata": {},
   "outputs": [],
   "source": [
    "summary_table = parser.xpath('//div[contains(@data-test,\"summary-table\")]//tr')\n",
    "    summary_data = OrderedDict()\n",
    "    other_details_json_link = \"https://query2.finance.yahoo.com/v10/finance/quoteSummary/{0}?formatted=true&lang=en-US&region=US&modules=summaryProfile%2CfinancialData%2CrecommendationTrend%2CupgradeDowngradeHistory%2Cearnings%2CdefaultKeyStatistics%2CcalendarEvents&corsDomain=finance.yahoo.com\".format(ticker)\n",
    "    summary_json_response = requests.get(other_details_json_link)\n",
    "    tt = summary_json_response.json()"
   ]
  },
  {
   "cell_type": "markdown",
   "metadata": {},
   "source": [
    "# Another Query Format"
   ]
  },
  {
   "cell_type": "code",
   "execution_count": 104,
   "metadata": {},
   "outputs": [
    {
     "name": "stderr",
     "output_type": "stream",
     "text": [
      "C:\\Users\\Farid Khafizov\\anaconda3\\lib\\site-packages\\urllib3\\connectionpool.py:1004: InsecureRequestWarning: Unverified HTTPS request is being made to host 'finance.yahoo.com'. Adding certificate verification is strongly advised. See: https://urllib3.readthedocs.io/en/latest/advanced-usage.html#ssl-warnings\n",
      "  InsecureRequestWarning,\n"
     ]
    },
    {
     "name": "stdout",
     "output_type": "stream",
     "text": [
      "Parsing https://finance.yahoo.com/quote/VOO?p=VOO&.tsrc=fin-srch\n"
     ]
    }
   ],
   "source": [
    "url =\"https://finance.yahoo.com/quote/%s?p=%s&.tsrc=fin-srch\"%(ticker,ticker)\n",
    "response = requests.get(url, verify=False)\n",
    "print( \"Parsing %s\"%(url))\n",
    "#     time.sleep(4)\n",
    "parser = html.fromstring(response.text)\n",
    "summary_table = parser.xpath('//div[contains(@data-test,\"summary-table\")]//tr')\n",
    "summary_data = OrderedDict()\n",
    "other_details_json_link = \"https://query2.finance.yahoo.com/v10/finance/quoteSummary/{0}?formatted=true&lang=en-US&region=US&modules=summaryProfile%2CfinancialData%2CrecommendationTrend%2CupgradeDowngradeHistory%2Cearnings%2CdefaultKeyStatistics%2CcalendarEvents&corsDomain=finance.yahoo.com\".format(ticker)\n",
    "summary_json_response = requests.get(other_details_json_link)\n",
    "tt = summary_json_response.json()\n",
    "# tt"
   ]
  },
  {
   "cell_type": "code",
   "execution_count": 215,
   "metadata": {},
   "outputs": [
    {
     "data": {
      "text/plain": [
       "'<!doctype html>\\r\\n<html lang=\"en\" id=\"psApp\" data-modules=\"patterns.organisms.vanguard-products.run\">'"
      ]
     },
     "execution_count": 215,
     "metadata": {},
     "output_type": "execute_result"
    }
   ],
   "source": [
    "response.text[:100]\n",
    "\n",
    "\n",
    "# summary_table[0] #<Element tr at 0xef88a0>\n",
    "# parser #<Element html at 0xed9ff60>\n",
    "# summary_data #OrderedDict()"
   ]
  },
  {
   "cell_type": "code",
   "execution_count": 103,
   "metadata": {},
   "outputs": [
    {
     "name": "stdout",
     "output_type": "stream",
     "text": [
      "VOO Vanguard Large Blend 1.88% {} -1.45% 1.00\n"
     ]
    }
   ],
   "source": [
    "print(ticker,\n",
    "tt['quoteSummary']['result'][0]['defaultKeyStatistics']['fundFamily'],\n",
    "tt['quoteSummary']['result'][0]['defaultKeyStatistics']['category'],\n",
    "tt['quoteSummary']['result'][0]['defaultKeyStatistics']['yield']['fmt'],\n",
    "tt['quoteSummary']['result'][0]['defaultKeyStatistics']['annualReportExpenseRatio'],\n",
    "tt['quoteSummary']['result'][0]['defaultKeyStatistics']['ytdReturn']['fmt'],\n",
    "tt['quoteSummary']['result'][0]['defaultKeyStatistics']['beta3Year']['fmt']\n",
    ")"
   ]
  },
  {
   "cell_type": "code",
   "execution_count": null,
   "metadata": {},
   "outputs": [],
   "source": []
  },
  {
   "cell_type": "code",
   "execution_count": null,
   "metadata": {},
   "outputs": [],
   "source": []
  },
  {
   "cell_type": "code",
   "execution_count": null,
   "metadata": {},
   "outputs": [],
   "source": []
  },
  {
   "cell_type": "code",
   "execution_count": 70,
   "metadata": {},
   "outputs": [
    {
     "name": "stderr",
     "output_type": "stream",
     "text": [
      "C:\\Users\\Farid Khafizov\\anaconda3\\lib\\site-packages\\urllib3\\connectionpool.py:1004: InsecureRequestWarning: Unverified HTTPS request is being made to host 'finance.yahoo.com'. Adding certificate verification is strongly advised. See: https://urllib3.readthedocs.io/en/latest/advanced-usage.html#ssl-warnings\n",
      "  InsecureRequestWarning,\n"
     ]
    },
    {
     "name": "stdout",
     "output_type": "stream",
     "text": [
      "Parsing http://finance.yahoo.com/quote/VOO?p=VOO\n"
     ]
    }
   ],
   "source": [
    "ticker=\"VOO\"\n",
    "url = \"http://finance.yahoo.com/quote/%s?p=%s\"%(ticker,ticker)\n",
    "response = requests.get(url, verify=False)\n",
    "print( \"Parsing %s\"%(url))\n",
    "time.sleep(4)\n",
    "parser = html.fromstring(response.text)\n",
    "summary_table = parser.xpath('//div[contains(@data-test,\"summary-table\")]//tr')\n",
    "summary_data = OrderedDict()\n",
    "other_details_json_link = \"https://query2.finance.yahoo.com/v10/finance/quoteSummary/{0}?formatted=true&lang=en-US&region=US&modules=summaryProfile%2CfinancialData%2CrecommendationTrend%2CupgradeDowngradeHistory%2Cearnings%2CdefaultKeyStatistics%2CcalendarEvents&corsDomain=finance.yahoo.com\".format(ticker)\n",
    "summary_json_response = requests.get(other_details_json_link)\n"
   ]
  },
  {
   "cell_type": "code",
   "execution_count": 71,
   "metadata": {},
   "outputs": [
    {
     "data": {
      "text/plain": [
       "dict_keys(['quoteSummary'])"
      ]
     },
     "execution_count": 71,
     "metadata": {},
     "output_type": "execute_result"
    }
   ],
   "source": [
    "import json\n",
    "tt = summary_json_response.json()        #['defaultKeyStatistics']\n",
    "type(tt)\n",
    "tt.keys()"
   ]
  },
  {
   "cell_type": "code",
   "execution_count": 219,
   "metadata": {},
   "outputs": [],
   "source": [
    "# tt['quoteSummary']"
   ]
  },
  {
   "cell_type": "code",
   "execution_count": 74,
   "metadata": {},
   "outputs": [
    {
     "data": {
      "text/plain": [
       "dict_keys(['defaultKeyStatistics', 'summaryProfile'])"
      ]
     },
     "execution_count": 74,
     "metadata": {},
     "output_type": "execute_result"
    }
   ],
   "source": [
    "tt['quoteSummary']['result'][0].keys()"
   ]
  },
  {
   "cell_type": "code",
   "execution_count": 75,
   "metadata": {},
   "outputs": [
    {
     "data": {
      "text/plain": [
       "dict_keys(['maxAge', 'priceHint', 'enterpriseValue', 'forwardPE', 'profitMargins', 'morningStarOverallRating', 'morningStarRiskRating', 'category', 'bookValue', 'priceToBook', 'annualReportExpenseRatio', 'ytdReturn', 'beta3Year', 'totalAssets', 'yield', 'fundFamily', 'fundInceptionDate', 'legalType', 'threeYearAverageReturn', 'fiveYearAverageReturn', 'priceToSalesTrailing12Months', 'lastFiscalYearEnd', 'nextFiscalYearEnd', 'mostRecentQuarter', 'earningsQuarterlyGrowth', 'revenueQuarterlyGrowth', 'netIncomeToCommon', 'trailingEps', 'forwardEps', 'pegRatio', 'lastSplitFactor', 'lastSplitDate', 'enterpriseToRevenue', 'enterpriseToEbitda', '52WeekChange', 'SandP52WeekChange', 'lastDividendValue', 'lastCapGain', 'annualHoldingsTurnover'])"
      ]
     },
     "execution_count": 75,
     "metadata": {},
     "output_type": "execute_result"
    }
   ],
   "source": [
    "tt['quoteSummary']['result'][0]['defaultKeyStatistics'].keys()"
   ]
  },
  {
   "cell_type": "code",
   "execution_count": 84,
   "metadata": {},
   "outputs": [
    {
     "name": "stdout",
     "output_type": "stream",
     "text": [
      "VOO Vanguard Large Blend 1.88% {} -0.92% 1.00\n"
     ]
    }
   ],
   "source": [
    "print(ticker,\n",
    "tt['quoteSummary']['result'][0]['defaultKeyStatistics']['fundFamily'],\n",
    "tt['quoteSummary']['result'][0]['defaultKeyStatistics']['category'],\n",
    "tt['quoteSummary']['result'][0]['defaultKeyStatistics']['yield']['fmt'],\n",
    "tt['quoteSummary']['result'][0]['defaultKeyStatistics']['annualReportExpenseRatio'],\n",
    "tt['quoteSummary']['result'][0]['defaultKeyStatistics']['ytdReturn']['fmt'],\n",
    "tt['quoteSummary']['result'][0]['defaultKeyStatistics']['beta3Year']['fmt']\n",
    ")\n"
   ]
  },
  {
   "cell_type": "code",
   "execution_count": 85,
   "metadata": {},
   "outputs": [
    {
     "data": {
      "text/plain": [
       "dict_keys(['phone', 'longBusinessSummary', 'companyOfficers', 'maxAge'])"
      ]
     },
     "execution_count": 85,
     "metadata": {},
     "output_type": "execute_result"
    }
   ],
   "source": [
    "tt['quoteSummary']['result'][0]['summaryProfile'].keys()"
   ]
  },
  {
   "cell_type": "code",
   "execution_count": null,
   "metadata": {},
   "outputs": [],
   "source": []
  },
  {
   "cell_type": "code",
   "execution_count": null,
   "metadata": {},
   "outputs": [],
   "source": []
  },
  {
   "cell_type": "markdown",
   "metadata": {},
   "source": [
    "# WORKS FOR IBM and APPL"
   ]
  },
  {
   "cell_type": "code",
   "execution_count": null,
   "metadata": {},
   "outputs": [],
   "source": [
    "from lxml import html  \n",
    "import requests\n",
    "# from exceptions import ValueError\n",
    "from time import sleep\n",
    "import json\n",
    "import argparse\n",
    "from collections import OrderedDict\n",
    "# from time import sleep\n",
    "import time\n",
    "\n",
    "def parse(ticker):\n",
    "\turl = \"http://finance.yahoo.com/quote/%s?p=%s\"%(ticker,ticker)\n",
    "\tresponse = requests.get(url, verify=False)\n",
    "\tprint( \"Parsing %s\"%(url))\n",
    "\ttime.sleep(4)\n",
    "\tparser = html.fromstring(response.text)\n",
    "\tsummary_table = parser.xpath('//div[contains(@data-test,\"summary-table\")]//tr')\n",
    "\tsummary_data = OrderedDict()\n",
    "\tother_details_json_link = \"https://query2.finance.yahoo.com/v10/finance/quoteSummary/{0}?formatted=true&lang=en-US&region=US&modules=summaryProfile%2CfinancialData%2CrecommendationTrend%2CupgradeDowngradeHistory%2Cearnings%2CdefaultKeyStatistics%2CcalendarEvents&corsDomain=finance.yahoo.com\".format(ticker)\n",
    "\tsummary_json_response = requests.get(other_details_json_link)\n",
    "\ttry:\n",
    "\t\tjson_loaded_summary =  json.loads(summary_json_response.text)\n",
    "\t\ty_Target_Est = json_loaded_summary[\"quoteSummary\"][\"result\"][0][\"financialData\"][\"targetMeanPrice\"]['raw']\n",
    "\t\tearnings_list = json_loaded_summary[\"quoteSummary\"][\"result\"][0][\"calendarEvents\"]['earnings']\n",
    "\t\teps = json_loaded_summary[\"quoteSummary\"][\"result\"][0][\"defaultKeyStatistics\"][\"trailingEps\"]['raw']\n",
    "\t\tdatelist = []\n",
    "\t\tfor i in earnings_list['earningsDate']:\n",
    "\t\t\tdatelist.append(i['fmt'])\n",
    "\t\tearnings_date = ' to '.join(datelist)\n",
    "\t\tfor table_data in summary_table:\n",
    "\t\t\traw_table_key = table_data.xpath('.//td[@class=\"C(black)\"]//text()')\n",
    "\t\t\traw_table_value = table_data.xpath('.//td[contains(@class,\"Ta(end)\")]//text()')\n",
    "\t\t\ttable_key = ''.join(raw_table_key).strip()\n",
    "\t\t\ttable_value = ''.join(raw_table_value).strip()\n",
    "\t\t\tsummary_data.update({table_key:table_value})\n",
    "\t\tsummary_data.update({'1y Target Est':y_Target_Est,'EPS (TTM)':eps,'Earnings Date':earnings_date,'ticker':ticker,'url':url})\n",
    "\t\treturn summary_data\n",
    "\texcept ValueError:\n",
    "\t\tprint (\"Failed to parse json response\")\n",
    "\t\treturn {\"error\":\"Failed to parse json response\"}\n",
    "\t\t\n"
   ]
  },
  {
   "cell_type": "code",
   "execution_count": 68,
   "metadata": {},
   "outputs": [],
   "source": [
    "# parse('VOO')\n",
    "# parse('VOO')\n"
   ]
  },
  {
   "cell_type": "code",
   "execution_count": 48,
   "metadata": {},
   "outputs": [],
   "source": [
    "# if __name__==\"__main__\":\n",
    "# \targparser = argparse.ArgumentParser()\n",
    "# \targparser.add_argument('ticker',help = '')\n",
    "# \targs = argparser.parse_args()\n",
    "# \tticker = args.ticker\n",
    "# \tprint( \"Fetching data for %s\"%(ticker))\n",
    "# \tscraped_data = parse(ticker)\n",
    "# \tprint(\"Writing data to output file\")\n",
    "# \twith open('%s-summary.json'%(ticker),'w') as fp:\n",
    "# \t \tjson.dump(scraped_data,fp,indent = 4)"
   ]
  },
  {
   "cell_type": "code",
   "execution_count": 49,
   "metadata": {},
   "outputs": [
    {
     "name": "stderr",
     "output_type": "stream",
     "text": [
      "C:\\Users\\Farid Khafizov\\anaconda3\\lib\\site-packages\\urllib3\\connectionpool.py:1004: InsecureRequestWarning: Unverified HTTPS request is being made to host 'finance.yahoo.com'. Adding certificate verification is strongly advised. See: https://urllib3.readthedocs.io/en/latest/advanced-usage.html#ssl-warnings\n",
      "  InsecureRequestWarning,\n"
     ]
    },
    {
     "name": "stdout",
     "output_type": "stream",
     "text": [
      "Parsing http://finance.yahoo.com/quote/AAPL?p=AAPL\n"
     ]
    },
    {
     "data": {
      "text/plain": [
       "<Response [200]>"
      ]
     },
     "execution_count": 49,
     "metadata": {},
     "output_type": "execute_result"
    }
   ],
   "source": [
    "ticker='AAPL'\n",
    "url = \"http://finance.yahoo.com/quote/%s?p=%s\"%(ticker,ticker)\n",
    "response = requests.get(url, verify=False)\n",
    "print( \"Parsing %s\"%(url))\n",
    "time.sleep(4)\n",
    "parser = html.fromstring(response.text)\n",
    "summary_table = parser.xpath('//div[contains(@data-test,\"summary-table\")]//tr')\n",
    "summary_data = OrderedDict()\n",
    "other_details_json_link = \"https://query2.finance.yahoo.com/v10/finance/quoteSummary/{0}?formatted=true&lang=en-US&region=US&modules=summaryProfile%2CfinancialData%2CrecommendationTrend%2CupgradeDowngradeHistory%2Cearnings%2CdefaultKeyStatistics%2CcalendarEvents&corsDomain=finance.yahoo.com\".format(ticker)\n",
    "summary_json_response = requests.get(other_details_json_link)\n",
    "summary_json_response"
   ]
  },
  {
   "cell_type": "code",
   "execution_count": 216,
   "metadata": {},
   "outputs": [],
   "source": [
    "# summary_json_response.text"
   ]
  },
  {
   "cell_type": "code",
   "execution_count": 51,
   "metadata": {},
   "outputs": [
    {
     "data": {
      "text/plain": [
       "requests.models.Response"
      ]
     },
     "execution_count": 51,
     "metadata": {},
     "output_type": "execute_result"
    }
   ],
   "source": [
    "type(summary_json_response) "
   ]
  },
  {
   "cell_type": "code",
   "execution_count": 217,
   "metadata": {},
   "outputs": [],
   "source": [
    "# summary_json_response.json()"
   ]
  },
  {
   "cell_type": "code",
   "execution_count": 62,
   "metadata": {},
   "outputs": [
    {
     "data": {
      "text/plain": [
       "dict_keys(['quoteSummary'])"
      ]
     },
     "execution_count": 62,
     "metadata": {},
     "output_type": "execute_result"
    }
   ],
   "source": [
    "import json\n",
    "tt = summary_json_response.json()        #['defaultKeyStatistics']\n",
    "type(tt)\n",
    "tt.keys()"
   ]
  },
  {
   "cell_type": "code",
   "execution_count": 63,
   "metadata": {},
   "outputs": [
    {
     "data": {
      "text/plain": [
       "dict_keys(['result', 'error'])"
      ]
     },
     "execution_count": 63,
     "metadata": {},
     "output_type": "execute_result"
    }
   ],
   "source": [
    "tt['quoteSummary'].keys()"
   ]
  },
  {
   "cell_type": "code",
   "execution_count": 64,
   "metadata": {},
   "outputs": [
    {
     "data": {
      "text/plain": [
       "dict_keys(['defaultKeyStatistics', 'summaryProfile'])"
      ]
     },
     "execution_count": 64,
     "metadata": {},
     "output_type": "execute_result"
    }
   ],
   "source": [
    "tt['quoteSummary']['result'][0].keys()"
   ]
  },
  {
   "cell_type": "code",
   "execution_count": 218,
   "metadata": {},
   "outputs": [],
   "source": [
    "# tt['quoteSummary']['result'][0]['defaultKeyStatistics']"
   ]
  },
  {
   "cell_type": "code",
   "execution_count": 67,
   "metadata": {},
   "outputs": [
    {
     "data": {
      "text/plain": [
       "{'raw': 0.0188, 'fmt': '1.88%'}"
      ]
     },
     "execution_count": 67,
     "metadata": {},
     "output_type": "execute_result"
    }
   ],
   "source": [
    "tt['quoteSummary']['result'][0]['defaultKeyStatistics']['yield']"
   ]
  },
  {
   "cell_type": "code",
   "execution_count": null,
   "metadata": {},
   "outputs": [],
   "source": []
  },
  {
   "cell_type": "code",
   "execution_count": null,
   "metadata": {},
   "outputs": [],
   "source": []
  }
 ],
 "metadata": {
  "kernelspec": {
   "display_name": "Python 3",
   "language": "python",
   "name": "python3"
  },
  "language_info": {
   "codemirror_mode": {
    "name": "ipython",
    "version": 3
   },
   "file_extension": ".py",
   "mimetype": "text/x-python",
   "name": "python",
   "nbconvert_exporter": "python",
   "pygments_lexer": "ipython3",
   "version": "3.7.6"
  }
 },
 "nbformat": 4,
 "nbformat_minor": 4
}
